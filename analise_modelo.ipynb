{
 "cells": [
  {
   "cell_type": "code",
   "execution_count": 2,
   "metadata": {},
   "outputs": [],
   "source": [
    "from sklearn.tree import DecisionTreeClassifier\n",
    "from sklearn.neighbors import KNeighborsClassifier\n",
    "from sklearn.ensemble import RandomForestClassifier\n",
    "from sklearn.linear_model import LogisticRegression\n",
    "from sklearn.neural_network import MLPClassifier\n",
    "from sklearn.model_selection import train_test_split, GridSearchCV, RandomizedSearchCV\n",
    "from sklearn.pipeline import Pipeline\n",
    "from sklearn.metrics import recall_score, precision_score, accuracy_score, f1_score, confusion_matrix\n",
    "from sklearn.model_selection import cross_val_predict, cross_val_score, StratifiedKFold\n",
    "\n",
    "import pandas as pd\n",
    "import numpy as np"
   ]
  },
  {
   "cell_type": "markdown",
   "metadata": {},
   "source": [
    "## Carrega base"
   ]
  },
  {
   "cell_type": "code",
   "execution_count": 3,
   "metadata": {},
   "outputs": [],
   "source": [
    "# Com categorização das colunas bmi e glicose\n",
    "stroke_cat = pd.read_csv('stroke_df_cat')\n"
   ]
  },
  {
   "cell_type": "code",
   "execution_count": 4,
   "metadata": {},
   "outputs": [
    {
     "data": {
      "text/html": [
       "<div>\n",
       "<style scoped>\n",
       "    .dataframe tbody tr th:only-of-type {\n",
       "        vertical-align: middle;\n",
       "    }\n",
       "\n",
       "    .dataframe tbody tr th {\n",
       "        vertical-align: top;\n",
       "    }\n",
       "\n",
       "    .dataframe thead th {\n",
       "        text-align: right;\n",
       "    }\n",
       "</style>\n",
       "<table border=\"1\" class=\"dataframe\">\n",
       "  <thead>\n",
       "    <tr style=\"text-align: right;\">\n",
       "      <th></th>\n",
       "      <th>gender</th>\n",
       "      <th>age</th>\n",
       "      <th>hypertension</th>\n",
       "      <th>heart_disease</th>\n",
       "      <th>ever_married</th>\n",
       "      <th>work_type</th>\n",
       "      <th>Residence_type</th>\n",
       "      <th>avg_glucose_level</th>\n",
       "      <th>bmi</th>\n",
       "      <th>smoking_status</th>\n",
       "      <th>stroke</th>\n",
       "    </tr>\n",
       "  </thead>\n",
       "  <tbody>\n",
       "    <tr>\n",
       "      <th>0</th>\n",
       "      <td>1</td>\n",
       "      <td>28</td>\n",
       "      <td>0</td>\n",
       "      <td>0</td>\n",
       "      <td>1</td>\n",
       "      <td>2</td>\n",
       "      <td>1</td>\n",
       "      <td>1</td>\n",
       "      <td>1</td>\n",
       "      <td>2</td>\n",
       "      <td>0</td>\n",
       "    </tr>\n",
       "    <tr>\n",
       "      <th>1</th>\n",
       "      <td>1</td>\n",
       "      <td>33</td>\n",
       "      <td>0</td>\n",
       "      <td>0</td>\n",
       "      <td>1</td>\n",
       "      <td>2</td>\n",
       "      <td>0</td>\n",
       "      <td>1</td>\n",
       "      <td>4</td>\n",
       "      <td>1</td>\n",
       "      <td>0</td>\n",
       "    </tr>\n",
       "    <tr>\n",
       "      <th>2</th>\n",
       "      <td>0</td>\n",
       "      <td>42</td>\n",
       "      <td>0</td>\n",
       "      <td>0</td>\n",
       "      <td>1</td>\n",
       "      <td>2</td>\n",
       "      <td>0</td>\n",
       "      <td>2</td>\n",
       "      <td>3</td>\n",
       "      <td>0</td>\n",
       "      <td>0</td>\n",
       "    </tr>\n",
       "    <tr>\n",
       "      <th>3</th>\n",
       "      <td>1</td>\n",
       "      <td>56</td>\n",
       "      <td>0</td>\n",
       "      <td>0</td>\n",
       "      <td>1</td>\n",
       "      <td>2</td>\n",
       "      <td>1</td>\n",
       "      <td>1</td>\n",
       "      <td>5</td>\n",
       "      <td>2</td>\n",
       "      <td>0</td>\n",
       "    </tr>\n",
       "    <tr>\n",
       "      <th>4</th>\n",
       "      <td>0</td>\n",
       "      <td>24</td>\n",
       "      <td>0</td>\n",
       "      <td>0</td>\n",
       "      <td>0</td>\n",
       "      <td>2</td>\n",
       "      <td>0</td>\n",
       "      <td>1</td>\n",
       "      <td>5</td>\n",
       "      <td>2</td>\n",
       "      <td>0</td>\n",
       "    </tr>\n",
       "  </tbody>\n",
       "</table>\n",
       "</div>"
      ],
      "text/plain": [
       "   gender  age  hypertension  heart_disease  ever_married  work_type  \\\n",
       "0       1   28             0              0             1          2   \n",
       "1       1   33             0              0             1          2   \n",
       "2       0   42             0              0             1          2   \n",
       "3       1   56             0              0             1          2   \n",
       "4       0   24             0              0             0          2   \n",
       "\n",
       "   Residence_type  avg_glucose_level  bmi  smoking_status  stroke  \n",
       "0               1                  1    1               2       0  \n",
       "1               0                  1    4               1       0  \n",
       "2               0                  2    3               0       0  \n",
       "3               1                  1    5               2       0  \n",
       "4               0                  1    5               2       0  "
      ]
     },
     "execution_count": 4,
     "metadata": {},
     "output_type": "execute_result"
    }
   ],
   "source": [
    "stroke_cat.head()"
   ]
  },
  {
   "cell_type": "markdown",
   "metadata": {},
   "source": [
    "## Entrada para modelagem"
   ]
  },
  {
   "cell_type": "code",
   "execution_count": 5,
   "metadata": {},
   "outputs": [],
   "source": [
    "#features\n",
    "\n",
    "X = (stroke_cat.drop(['stroke'], axis=1)).values\n",
    "\n",
    "#target\n",
    "\n",
    "y = (stroke_cat['stroke']).values"
   ]
  },
  {
   "cell_type": "markdown",
   "metadata": {},
   "source": [
    "## Criação dos modelos"
   ]
  },
  {
   "cell_type": "code",
   "execution_count": 6,
   "metadata": {},
   "outputs": [],
   "source": [
    "ad_clf = DecisionTreeClassifier()\n",
    "knn_clf = KNeighborsClassifier(n_neighbors = 5)\n",
    "rf_clf = RandomForestClassifier(n_estimators=100)\n",
    "lg_clf = LogisticRegression(random_state=0, max_iter=1000)\n",
    "mlp_clf = MLPClassifier(random_state=1, max_iter=300)"
   ]
  },
  {
   "cell_type": "markdown",
   "metadata": {},
   "source": [
    "## Amostragem Holdout teste dos modelos"
   ]
  },
  {
   "cell_type": "code",
   "execution_count": 24,
   "metadata": {},
   "outputs": [],
   "source": [
    "X_train, X_test, y_train, y_test = train_test_split(X, y, test_size = 0.33)"
   ]
  },
  {
   "cell_type": "code",
   "execution_count": 25,
   "metadata": {},
   "outputs": [
    {
     "name": "stdout",
     "output_type": "stream",
     "text": [
      "0    95.757339\n",
      "1     4.242661\n",
      "Name: count, dtype: float64\n",
      "10253\n"
     ]
    }
   ],
   "source": [
    "y_train_v =  pd.DataFrame(y_train)\n",
    "print(y_train_v.value_counts()/y_train_v.shape[0]*100)\n",
    "print(y_train_v.shape[0])"
   ]
  },
  {
   "cell_type": "code",
   "execution_count": 26,
   "metadata": {},
   "outputs": [],
   "source": [
    "X_train_s, X_test_s, y_train_s, y_test_s = train_test_split(X, y, test_size = 0.33,stratify=y)\n",
    "\n",
    "#stratify, a função train_test_split garante que a divisão dos dados em conjuntos de treinamento e teste mantém a mesma distribuição das classes em y nos dois conjuntos"
   ]
  },
  {
   "cell_type": "code",
   "execution_count": 27,
   "metadata": {},
   "outputs": [
    {
     "name": "stdout",
     "output_type": "stream",
     "text": [
      "0    95.874378\n",
      "1     4.125622\n",
      "Name: count, dtype: float64\n",
      "10253\n"
     ]
    }
   ],
   "source": [
    "y_train_v =  pd.DataFrame(y_train_s)\n",
    "print(y_train_v.value_counts()/y_train_v.shape[0]*100)\n",
    "print(y_train_v.shape[0])"
   ]
  },
  {
   "cell_type": "markdown",
   "metadata": {},
   "source": [
    "## Oversampling"
   ]
  },
  {
   "cell_type": "code",
   "execution_count": 28,
   "metadata": {},
   "outputs": [],
   "source": [
    "from imblearn.over_sampling import SMOTE\n",
    "\n",
    "s=SMOTE()\n",
    "X_reso,y_reso =s.fit_resample(X_train,y_train)\n"
   ]
  },
  {
   "cell_type": "code",
   "execution_count": 29,
   "metadata": {},
   "outputs": [
    {
     "name": "stdout",
     "output_type": "stream",
     "text": [
      "0    50.0\n",
      "1    50.0\n",
      "Name: count, dtype: float64\n",
      "19636\n"
     ]
    }
   ],
   "source": [
    "y_train_v =  pd.DataFrame(y_reso)\n",
    "print(y_train_v.value_counts()/y_train_v.shape[0]*100)\n",
    "print(y_train_v.shape[0])"
   ]
  },
  {
   "cell_type": "markdown",
   "metadata": {},
   "source": [
    "## Undersampling"
   ]
  },
  {
   "cell_type": "code",
   "execution_count": 32,
   "metadata": {},
   "outputs": [],
   "source": [
    "from imblearn.under_sampling import ClusterCentroids,RandomUnderSampler\n",
    "\n",
    "rus= RandomUnderSampler()\n",
    "cc = ClusterCentroids()\n",
    "\n",
    "X_resu,y_resu = rus.fit_resample(X_train,y_train)\n"
   ]
  },
  {
   "cell_type": "code",
   "execution_count": 33,
   "metadata": {},
   "outputs": [
    {
     "name": "stdout",
     "output_type": "stream",
     "text": [
      "0    50.0\n",
      "1    50.0\n",
      "Name: count, dtype: float64\n",
      "870\n"
     ]
    }
   ],
   "source": [
    "y_train_v =  pd.DataFrame(y_resu)\n",
    "print(y_train_v.value_counts()/y_train_v.shape[0]*100)\n",
    "print(y_train_v.shape[0])"
   ]
  },
  {
   "cell_type": "markdown",
   "metadata": {},
   "source": [
    "## Treinar modelos - com Holdout"
   ]
  },
  {
   "cell_type": "code",
   "execution_count": 34,
   "metadata": {},
   "outputs": [
    {
     "name": "stdout",
     "output_type": "stream",
     "text": [
      "                   Modelo  Accuracy  Precision    Recall  F1-Score\n",
      "0  DecisionTreeClassifier  0.937228   0.208738  0.218274  0.213400\n",
      "1    KNeighborsClassifier  0.956436   0.232558  0.050761  0.083333\n",
      "2  RandomForestClassifier  0.953663   0.265823  0.106599  0.152174\n",
      "3      LogisticRegression  0.960594   0.250000  0.005076  0.009950\n",
      "4           MLPClassifier  0.960990   0.500000  0.010152  0.019900\n"
     ]
    }
   ],
   "source": [
    "modelos = [ad_clf, knn_clf, rf_clf, lg_clf, mlp_clf]\n",
    "\n",
    "# Dicionário para armazenar métricas\n",
    "metrics = {\"Modelo\": [], \"Accuracy\": [], \"Precision\": [], \"Recall\": [], \"F1-Score\": []}\n",
    "\n",
    "for modelo in modelos:\n",
    "    modelo.fit(X_train, y_train)\n",
    "    y_pred = modelo.predict(X_test)\n",
    "    \n",
    "    modelo_name = modelo.__class__.__name__\n",
    "    accuracy = accuracy_score(y_test, y_pred)\n",
    "    precision = precision_score(y_test, y_pred)\n",
    "    recall = recall_score(y_test, y_pred)\n",
    "    f1 = f1_score(y_test, y_pred)\n",
    "    \n",
    "    metrics[\"Modelo\"].append(modelo_name)\n",
    "    metrics[\"Accuracy\"].append(accuracy)\n",
    "    metrics[\"Precision\"].append(precision)\n",
    "    metrics[\"Recall\"].append(recall)\n",
    "    metrics[\"F1-Score\"].append(f1)\n",
    "\n",
    "# Exiba as métricas\n",
    "\n",
    "metrics_df = pd.DataFrame(metrics)\n",
    "print(metrics_df)\n"
   ]
  },
  {
   "cell_type": "markdown",
   "metadata": {},
   "source": [
    "## Treinar modelos - com Holdout stratify"
   ]
  },
  {
   "cell_type": "code",
   "execution_count": 35,
   "metadata": {},
   "outputs": [
    {
     "name": "stdout",
     "output_type": "stream",
     "text": [
      "                   Modelo  Accuracy  Precision    Recall  F1-Score\n",
      "0  DecisionTreeClassifier  0.937624   0.229592  0.215311  0.222222\n",
      "1    KNeighborsClassifier  0.956040   0.290323  0.043062  0.075000\n",
      "2  RandomForestClassifier  0.955248   0.350877  0.095694  0.150376\n",
      "3      LogisticRegression  0.958020   0.285714  0.009569  0.018519\n",
      "4           MLPClassifier  0.958614   0.000000  0.000000  0.000000\n"
     ]
    },
    {
     "name": "stderr",
     "output_type": "stream",
     "text": [
      "c:\\Users\\User\\AppData\\Local\\Programs\\Python\\Python311\\Lib\\site-packages\\sklearn\\metrics\\_classification.py:1469: UndefinedMetricWarning: Precision is ill-defined and being set to 0.0 due to no predicted samples. Use `zero_division` parameter to control this behavior.\n",
      "  _warn_prf(average, modifier, msg_start, len(result))\n"
     ]
    }
   ],
   "source": [
    "modelos = [ad_clf, knn_clf, rf_clf, lg_clf, mlp_clf]\n",
    "\n",
    "# Dicionário para armazenar métricas\n",
    "metrics = {\"Modelo\": [], \"Accuracy\": [], \"Precision\": [], \"Recall\": [], \"F1-Score\": []}\n",
    "\n",
    "for modelo in modelos:\n",
    "    modelo.fit(X_train_s, y_train_s)\n",
    "    y_pred = modelo.predict(X_test_s)\n",
    "    \n",
    "    modelo_name = modelo.__class__.__name__\n",
    "    accuracy = accuracy_score(y_test_s, y_pred)\n",
    "    precision = precision_score(y_test_s, y_pred)\n",
    "    recall = recall_score(y_test_s, y_pred)\n",
    "    f1 = f1_score(y_test_s, y_pred)\n",
    "    \n",
    "    metrics[\"Modelo\"].append(modelo_name)\n",
    "    metrics[\"Accuracy\"].append(accuracy)\n",
    "    metrics[\"Precision\"].append(precision)\n",
    "    metrics[\"Recall\"].append(recall)\n",
    "    metrics[\"F1-Score\"].append(f1)\n",
    "\n",
    "# Exiba as métricas\n",
    "\n",
    "metrics_df = pd.DataFrame(metrics)\n",
    "print(metrics_df)"
   ]
  },
  {
   "cell_type": "markdown",
   "metadata": {},
   "source": [
    "## Treinar modelos com  o KFold"
   ]
  },
  {
   "cell_type": "code",
   "execution_count": 36,
   "metadata": {},
   "outputs": [
    {
     "name": "stderr",
     "output_type": "stream",
     "text": [
      "c:\\Users\\User\\AppData\\Local\\Programs\\Python\\Python311\\Lib\\site-packages\\sklearn\\metrics\\_classification.py:1469: UndefinedMetricWarning: Precision is ill-defined and being set to 0.0 due to no predicted samples. Use `zero_division` parameter to control this behavior.\n",
      "  _warn_prf(average, modifier, msg_start, len(result))\n",
      "c:\\Users\\User\\AppData\\Local\\Programs\\Python\\Python311\\Lib\\site-packages\\sklearn\\metrics\\_classification.py:1469: UndefinedMetricWarning: Precision is ill-defined and being set to 0.0 due to no predicted samples. Use `zero_division` parameter to control this behavior.\n",
      "  _warn_prf(average, modifier, msg_start, len(result))\n",
      "c:\\Users\\User\\AppData\\Local\\Programs\\Python\\Python311\\Lib\\site-packages\\sklearn\\metrics\\_classification.py:1469: UndefinedMetricWarning: Precision is ill-defined and being set to 0.0 due to no predicted samples. Use `zero_division` parameter to control this behavior.\n",
      "  _warn_prf(average, modifier, msg_start, len(result))\n",
      "c:\\Users\\User\\AppData\\Local\\Programs\\Python\\Python311\\Lib\\site-packages\\sklearn\\metrics\\_classification.py:1469: UndefinedMetricWarning: Precision is ill-defined and being set to 0.0 due to no predicted samples. Use `zero_division` parameter to control this behavior.\n",
      "  _warn_prf(average, modifier, msg_start, len(result))\n"
     ]
    },
    {
     "name": "stdout",
     "output_type": "stream",
     "text": [
      "                   Modelo  Accuracy  Precision    Recall  F1-Score\n",
      "0  DecisionTreeClassifier  0.933150   0.195232  0.202500  0.189867\n",
      "1    KNeighborsClassifier  0.956283   0.383065  0.064879  0.106190\n",
      "2  RandomForestClassifier  0.951121   0.278423  0.090164  0.132966\n",
      "3      LogisticRegression  0.958505   0.170000  0.003162  0.015531\n",
      "4           MLPClassifier  0.958636   0.050000  0.020585  0.030149\n"
     ]
    }
   ],
   "source": [
    "modelos = [ad_clf, knn_clf, rf_clf, lg_clf, mlp_clf]\n",
    "\n",
    "\n",
    "metrics = {\"Modelo\": [], \"Accuracy\": [], \"Precision\": [], \"Recall\": [], \"F1-Score\": []}\n",
    "\n",
    "# Realize a validação cruzada e calcule as métricas para cada modelo\n",
    "for modelo in modelos:\n",
    "    \n",
    "    modelo_name = modelo.__class__.__name__ \n",
    "    skf = StratifiedKFold(n_splits=5, shuffle=True)   \n",
    "   \n",
    "    y_pred = cross_val_predict(modelo, X, y, cv=skf)\n",
    "    \n",
    "    # Calcule as métricas\n",
    "    \n",
    "    accuracy = cross_val_score(modelo, X, y, cv=skf, scoring='accuracy').mean()\n",
    "    precision = cross_val_score(modelo, X, y, cv=skf, scoring='precision').mean()\n",
    "    recall = cross_val_score(modelo, X, y, cv=skf, scoring='recall').mean()\n",
    "    f1 = cross_val_score(modelo, X, y, cv=skf, scoring='f1').mean()\n",
    "    \n",
    "    # Armazene as métricas no dicionário\n",
    "    metrics[\"Modelo\"].append(modelo_name)\n",
    "    metrics[\"Accuracy\"].append(accuracy)\n",
    "    metrics[\"Precision\"].append(precision)\n",
    "    metrics[\"Recall\"].append(recall)\n",
    "    metrics[\"F1-Score\"].append(f1)\n",
    "\n",
    "# Exiba as métricas\n",
    "import pandas as pd\n",
    "metrics_df = pd.DataFrame(metrics)\n",
    "print(metrics_df)\n"
   ]
  },
  {
   "cell_type": "markdown",
   "metadata": {},
   "source": [
    "## Treinar modelos com  Holdout e undersampling"
   ]
  },
  {
   "cell_type": "code",
   "execution_count": 37,
   "metadata": {},
   "outputs": [
    {
     "name": "stdout",
     "output_type": "stream",
     "text": [
      "                   Modelo  Accuracy  Precision    Recall  F1-Score\n",
      "0  DecisionTreeClassifier  0.721584   0.095652  0.725888  0.169031\n",
      "1    KNeighborsClassifier  0.761584   0.114767  0.761421  0.199468\n",
      "2  RandomForestClassifier  0.758812   0.114717  0.771574  0.199737\n",
      "3      LogisticRegression  0.778614   0.131305  0.832487  0.226833\n",
      "4           MLPClassifier  0.733465   0.108918  0.812183  0.192077\n"
     ]
    }
   ],
   "source": [
    "modelos = [ad_clf, knn_clf, rf_clf, lg_clf, mlp_clf]\n",
    "\n",
    "# Dicionário para armazenar métricas\n",
    "metrics = {\"Modelo\": [], \"Accuracy\": [], \"Precision\": [], \"Recall\": [], \"F1-Score\": []}\n",
    "\n",
    "for modelo in modelos:\n",
    "    modelo.fit(X_resu, y_resu)\n",
    "    y_pred = modelo.predict(X_test)\n",
    "    \n",
    "    modelo_name = modelo.__class__.__name__\n",
    "    accuracy = accuracy_score(y_test, y_pred)\n",
    "    precision = precision_score(y_test, y_pred)\n",
    "    recall = recall_score(y_test, y_pred)\n",
    "    f1 = f1_score(y_test, y_pred)\n",
    "    \n",
    "    metrics[\"Modelo\"].append(modelo_name)\n",
    "    metrics[\"Accuracy\"].append(accuracy)\n",
    "    metrics[\"Precision\"].append(precision)\n",
    "    metrics[\"Recall\"].append(recall)\n",
    "    metrics[\"F1-Score\"].append(f1)\n",
    "\n",
    "# Exiba as métricas\n",
    "\n",
    "metrics_df = pd.DataFrame(metrics)\n",
    "print(metrics_df)"
   ]
  },
  {
   "cell_type": "markdown",
   "metadata": {},
   "source": [
    "## Treinar modelos com  Holdout e oversampling"
   ]
  },
  {
   "cell_type": "code",
   "execution_count": 38,
   "metadata": {},
   "outputs": [
    {
     "name": "stdout",
     "output_type": "stream",
     "text": [
      "                   Modelo  Accuracy  Precision    Recall  F1-Score\n",
      "0  DecisionTreeClassifier  0.882574   0.133333  0.365482  0.195387\n",
      "1    KNeighborsClassifier  0.886337   0.157895  0.441624  0.232620\n",
      "2  RandomForestClassifier  0.891683   0.133891  0.324873  0.189630\n",
      "3      LogisticRegression  0.799604   0.129882  0.725888  0.220339\n",
      "4           MLPClassifier  0.786733   0.118056  0.690355  0.201631\n"
     ]
    }
   ],
   "source": [
    "modelos = [ad_clf, knn_clf, rf_clf, lg_clf, mlp_clf]\n",
    "\n",
    "# Dicionário para armazenar métricas\n",
    "metrics = {\"Modelo\": [], \"Accuracy\": [], \"Precision\": [], \"Recall\": [], \"F1-Score\": []}\n",
    "\n",
    "for modelo in modelos:\n",
    "    modelo.fit(X_reso, y_reso)\n",
    "    y_pred = modelo.predict(X_test)\n",
    "    \n",
    "    modelo_name = modelo.__class__.__name__\n",
    "    accuracy = accuracy_score(y_test, y_pred)\n",
    "    precision = precision_score(y_test, y_pred)\n",
    "    recall = recall_score(y_test, y_pred)\n",
    "    f1 = f1_score(y_test, y_pred)\n",
    "    \n",
    "    metrics[\"Modelo\"].append(modelo_name)\n",
    "    metrics[\"Accuracy\"].append(accuracy)\n",
    "    metrics[\"Precision\"].append(precision)\n",
    "    metrics[\"Recall\"].append(recall)\n",
    "    metrics[\"F1-Score\"].append(f1)\n",
    "\n",
    "# Exiba as métricas\n",
    "\n",
    "metrics_df = pd.DataFrame(metrics)\n",
    "print(metrics_df)"
   ]
  },
  {
   "cell_type": "markdown",
   "metadata": {},
   "source": [
    "## Treinar modelos com  Kfold e undersampling"
   ]
  },
  {
   "cell_type": "code",
   "execution_count": 39,
   "metadata": {},
   "outputs": [
    {
     "name": "stdout",
     "output_type": "stream",
     "text": [
      "                   Modelo  Accuracy  Precision    Recall  F1-Score\n",
      "0  DecisionTreeClassifier  0.741747   0.107666  0.718248  0.187168\n",
      "1    KNeighborsClassifier  0.783048   0.133626  0.770604  0.227475\n",
      "2  RandomForestClassifier  0.760701   0.125615  0.800662  0.217063\n",
      "3      LogisticRegression  0.773312   0.134220  0.822772  0.230772\n",
      "4           MLPClassifier  0.694175   0.110553  0.872016  0.195144\n"
     ]
    }
   ],
   "source": [
    "modelos = [ad_clf, knn_clf, rf_clf, lg_clf, mlp_clf]\n",
    "metrics = {\"Modelo\": [], \"Accuracy\": [], \"Precision\": [], \"Recall\": [], \"F1-Score\": []}\n",
    "\n",
    "n_splits = 5\n",
    "cv = StratifiedKFold(n_splits=n_splits,shuffle=True)\n",
    "\n",
    "under = RandomUnderSampler()\n",
    "\n",
    "\n",
    "for modelo in modelos:\n",
    "\n",
    "    accuracies = []\n",
    "    precisions = []\n",
    "    recalls = []\n",
    "    f1s = []    \n",
    "\n",
    "    # Realize a validação cruzada com undersampling\n",
    "    for train_idx, test_idx in cv.split(X, y):\n",
    "        X_train, y_train = X[train_idx], y[train_idx]\n",
    "        X_test, y_test = X[test_idx], y[test_idx]\n",
    "        \n",
    "    # Realize o undersampling nos dados de treinamento\n",
    "        X_resampled, y_resampled =under.fit_resample(X_train, y_train)\n",
    "    \n",
    "        modelo_name = modelo.__class__.__name__  \n",
    "        modelo.fit(X_resampled, y_resampled)\n",
    "        y_pred = modelo.predict(X_test)\n",
    "    \n",
    "        modelo_name = modelo.__class__.__name__\n",
    "        accuracy = accuracy_score(y_test, y_pred)\n",
    "        precision = precision_score(y_test, y_pred)\n",
    "        recall = recall_score(y_test, y_pred)\n",
    "        f1 = f1_score(y_test, y_pred)\n",
    "        \n",
    "        accuracies.append(accuracy)\n",
    "        precisions.append(precision)\n",
    "        recalls.append(recall)\n",
    "        f1s.append(f1)\n",
    "        \n",
    "    mean_accuracy = sum(accuracies) / n_splits\n",
    "    mean_precision = sum(precisions) / n_splits\n",
    "    mean_recall = sum(recalls) / n_splits\n",
    "    mean_f1 = sum(f1s) / n_splits\n",
    "\n",
    "    # Armazene as métricas no dicionário\n",
    "    metrics[\"Modelo\"].append(modelo_name)\n",
    "    metrics[\"Accuracy\"].append(mean_accuracy)    \n",
    "    metrics[\"Precision\"].append(mean_precision)\n",
    "    metrics[\"Recall\"].append(mean_recall)\n",
    "    metrics[\"F1-Score\"].append(mean_f1)\n",
    "\n",
    "# Exiba as métricas\n",
    "\n",
    "metrics_df = pd.DataFrame(metrics)\n",
    "print(metrics_df)\n",
    "\n"
   ]
  },
  {
   "cell_type": "markdown",
   "metadata": {},
   "source": [
    "## Treinar modelos com  Kfold e oversampling"
   ]
  },
  {
   "cell_type": "code",
   "execution_count": 40,
   "metadata": {},
   "outputs": [
    {
     "name": "stdout",
     "output_type": "stream",
     "text": [
      "                   Modelo  Accuracy  Precision    Recall  F1-Score\n",
      "0  DecisionTreeClassifier  0.876494   0.122614  0.322835  0.177573\n",
      "1    KNeighborsClassifier  0.884728   0.165067  0.439870  0.239989\n",
      "2  RandomForestClassifier  0.890021   0.139924  0.322835  0.194988\n",
      "3      LogisticRegression  0.799320   0.133249  0.701062  0.223902\n",
      "4           MLPClassifier  0.822978   0.136884  0.617085  0.223584\n"
     ]
    }
   ],
   "source": [
    "modelos = [ad_clf, knn_clf, rf_clf, lg_clf, mlp_clf]\n",
    "metrics = {\"Modelo\": [], \"Accuracy\": [], \"Precision\": [], \"Recall\": [], \"F1-Score\": []}\n",
    "\n",
    "n_splits = 5\n",
    "cv = StratifiedKFold(n_splits=n_splits)\n",
    "over = SMOTE()\n",
    "\n",
    "\n",
    "for modelo in modelos:\n",
    "\n",
    "    accuracies = []\n",
    "    precisions = []\n",
    "    recalls = []\n",
    "    f1s = []    \n",
    "\n",
    "    # Realize a validação cruzada com undersampling\n",
    "    for train_idx, test_idx in cv.split(X, y):\n",
    "        X_train, y_train = X[train_idx], y[train_idx]\n",
    "        X_test, y_test = X[test_idx], y[test_idx]\n",
    "\n",
    "    # Realize o undersampling nos dados de treinamento\n",
    "        X_resampled, y_resampled =over.fit_resample(X_train, y_train)\n",
    "    \n",
    "        modelo_name = modelo.__class__.__name__  \n",
    "        modelo.fit(X_resampled, y_resampled)\n",
    "        y_pred = modelo.predict(X_test)\n",
    "    \n",
    "        modelo_name = modelo.__class__.__name__\n",
    "        accuracy = accuracy_score(y_test, y_pred)\n",
    "        precision = precision_score(y_test, y_pred)\n",
    "        recall = recall_score(y_test, y_pred)\n",
    "        f1 = f1_score(y_test, y_pred)\n",
    "        \n",
    "        accuracies.append(accuracy)\n",
    "        precisions.append(precision)\n",
    "        recalls.append(recall)\n",
    "        f1s.append(f1)\n",
    "        \n",
    "    mean_accuracy = sum(accuracies) / n_splits\n",
    "    mean_precision = sum(precisions) / n_splits\n",
    "    mean_recall = sum(recalls) / n_splits\n",
    "    mean_f1 = sum(f1s) / n_splits\n",
    "\n",
    "    # Armazene as métricas no dicionário\n",
    "    metrics[\"Modelo\"].append(modelo_name)\n",
    "    metrics[\"Accuracy\"].append(mean_accuracy)    \n",
    "    metrics[\"Precision\"].append(mean_precision)\n",
    "    metrics[\"Recall\"].append(mean_recall)\n",
    "    metrics[\"F1-Score\"].append(mean_f1)\n",
    "\n",
    "# Exiba as métricas\n",
    "\n",
    "metrics_df = pd.DataFrame(metrics)\n",
    "print(metrics_df)"
   ]
  },
  {
   "cell_type": "code",
   "execution_count": 7,
   "metadata": {},
   "outputs": [
    {
     "name": "stdout",
     "output_type": "stream",
     "text": [
      "Modelo: Decision Tree\n",
      "Melhores Parâmetros: {'classifier__criterion': 'entropy', 'classifier__max_depth': 5, 'classifier__min_samples_split': 2}\n",
      "Recall: 0.8803827751196173\n",
      "Modelo: Random Forest\n",
      "Melhores Parâmetros: {'classifier__criterion': 'entropy', 'classifier__max_depth': 5, 'classifier__min_samples_split': 10, 'classifier__n_estimators': 100}\n",
      "Recall: 0.8995215311004785\n"
     ]
    },
    {
     "name": "stderr",
     "output_type": "stream",
     "text": [
      "c:\\Users\\User\\AppData\\Local\\Programs\\Python\\Python311\\Lib\\site-packages\\sklearn\\neural_network\\_multilayer_perceptron.py:691: ConvergenceWarning: Stochastic Optimizer: Maximum iterations (500) reached and the optimization hasn't converged yet.\n",
      "  warnings.warn(\n"
     ]
    },
    {
     "name": "stdout",
     "output_type": "stream",
     "text": [
      "Modelo: MLP Classifier\n",
      "Melhores Parâmetros: {'classifier__activation': 'identity', 'classifier__alpha': 0.01, 'classifier__hidden_layer_sizes': (100, 100, 50), 'classifier__learning_rate': 'adaptive', 'classifier__max_iter': 500}\n",
      "Recall: 0.9521531100478469\n",
      "Modelo: KNN\n",
      "Melhores Parâmetros: {'classifier__metric': 'euclidean', 'classifier__n_neighbors': 9, 'classifier__weights': 'uniform'}\n",
      "Recall: 0.784688995215311\n",
      "Modelo: Logistic Regression\n",
      "Melhores Parâmetros: {'classifier__class_weight': 'balanced', 'classifier__max_iter': 1000}\n",
      "Recall: 0.8133971291866029\n"
     ]
    },
    {
     "name": "stderr",
     "output_type": "stream",
     "text": [
      "c:\\Users\\User\\AppData\\Local\\Programs\\Python\\Python311\\Lib\\site-packages\\sklearn\\model_selection\\_validation.py:425: FitFailedWarning: \n",
      "10 fits failed out of a total of 20.\n",
      "The score on these train-test partitions for these parameters will be set to nan.\n",
      "If these failures are not expected, you can try to debug them by setting error_score='raise'.\n",
      "\n",
      "Below are more details about the failures:\n",
      "--------------------------------------------------------------------------------\n",
      "10 fits failed with the following error:\n",
      "Traceback (most recent call last):\n",
      "  File \"c:\\Users\\User\\AppData\\Local\\Programs\\Python\\Python311\\Lib\\site-packages\\sklearn\\model_selection\\_validation.py\", line 729, in _fit_and_score\n",
      "    estimator.fit(X_train, y_train, **fit_params)\n",
      "  File \"c:\\Users\\User\\AppData\\Local\\Programs\\Python\\Python311\\Lib\\site-packages\\sklearn\\base.py\", line 1152, in wrapper\n",
      "    return fit_method(estimator, *args, **kwargs)\n",
      "           ^^^^^^^^^^^^^^^^^^^^^^^^^^^^^^^^^^^^^^\n",
      "  File \"c:\\Users\\User\\AppData\\Local\\Programs\\Python\\Python311\\Lib\\site-packages\\sklearn\\pipeline.py\", line 427, in fit\n",
      "    self._final_estimator.fit(Xt, y, **fit_params_last_step)\n",
      "  File \"c:\\Users\\User\\AppData\\Local\\Programs\\Python\\Python311\\Lib\\site-packages\\sklearn\\base.py\", line 1145, in wrapper\n",
      "    estimator._validate_params()\n",
      "  File \"c:\\Users\\User\\AppData\\Local\\Programs\\Python\\Python311\\Lib\\site-packages\\sklearn\\base.py\", line 638, in _validate_params\n",
      "    validate_parameter_constraints(\n",
      "  File \"c:\\Users\\User\\AppData\\Local\\Programs\\Python\\Python311\\Lib\\site-packages\\sklearn\\utils\\_param_validation.py\", line 95, in validate_parameter_constraints\n",
      "    raise InvalidParameterError(\n",
      "sklearn.utils._param_validation.InvalidParameterError: The 'class_weight' parameter of LogisticRegression must be an instance of 'dict', a str among {'balanced'} or None. Got 'none' instead.\n",
      "\n",
      "  warnings.warn(some_fits_failed_message, FitFailedWarning)\n",
      "c:\\Users\\User\\AppData\\Local\\Programs\\Python\\Python311\\Lib\\site-packages\\sklearn\\model_selection\\_search.py:979: UserWarning: One or more of the test scores are non-finite: [       nan        nan 0.80859944 0.80859944]\n",
      "  warnings.warn(\n"
     ]
    }
   ],
   "source": [
    "from imblearn.under_sampling import ClusterCentroids,RandomUnderSampler\n",
    "\n",
    "X_train, X_test, y_train, y_test = train_test_split(X, y, test_size = 0.33, stratify=y)\n",
    "under = RandomUnderSampler()\n",
    "X_resampled, y_resampled =under.fit_resample(X_train, y_train)\n",
    "\n",
    "pipelines = {\n",
    "    'Decision Tree': Pipeline([\n",
    "        ('classifier', DecisionTreeClassifier())\n",
    "    ]),\n",
    "    'Random Forest': Pipeline([\n",
    "        ('classifier', RandomForestClassifier())\n",
    "    ]),\n",
    "    'MLP Classifier': Pipeline([\n",
    "        ('classifier', MLPClassifier())\n",
    "    ]),\n",
    "    'KNN': Pipeline([\n",
    "        ('classifier', KNeighborsClassifier())\n",
    "    ]),\n",
    "    'Logistic Regression': Pipeline([\n",
    "        ('classifier', LogisticRegression())\n",
    "    ]),\n",
    "}\n",
    "\n",
    "param_grids = {\n",
    "    'Decision Tree':{\n",
    "        'classifier__min_samples_split': [2,5,10],\n",
    "        'classifier__max_depth': [None, 5, 10, 15],\n",
    "        'classifier__criterion': ['gini', 'entropy']\n",
    "    },\n",
    "    'Random Forest':{\n",
    "        'classifier__min_samples_split': [2, 5, 10],\n",
    "        'classifier__n_estimators': [50,100,150],\n",
    "        'classifier__max_depth': [None, 5, 10, 15],\n",
    "        'classifier__criterion': ['gini', 'entropy']\n",
    "    },\n",
    "    'MLP Classifier':{\n",
    "        'classifier__hidden_layer_sizes': [(50,), (100,50), (100,100,50)],\n",
    "        'classifier__activation': ['identity', 'logistic', 'tanh', 'relu'],\n",
    "        'classifier__alpha': [0.0001, 0.001, 0.01],\n",
    "        'classifier__max_iter': [500],\n",
    "        'classifier__learning_rate': ['adaptive']\n",
    "    },\n",
    "    'KNN':{\n",
    "        'classifier__n_neighbors': [3,5,7,9],\n",
    "        'classifier__weights': ['uniform', 'distance'],\n",
    "        'classifier__metric': ['euclidean', 'manhattan']\n",
    "    },\n",
    "    'Logistic Regression':{\n",
    "        'classifier__max_iter': [1000,2000],\n",
    "        'classifier__class_weight': ['none', 'balanced']\n",
    "    }\n",
    "}\n",
    "\n",
    "scoring = ['precision', 'recall']\n",
    "for model_name, pipeline in pipelines.items():\n",
    "  \n",
    "  #grid_search = GridSearchCV(pipeline, param_grids[model_name], scoring=scoring, refit=False)  \n",
    "  grid_search = GridSearchCV(pipeline, param_grids[model_name], scoring='recall')\n",
    "  grid_search.fit(X_resampled, y_resampled)\n",
    "\n",
    "  best_params = grid_search.best_params_\n",
    "  best_model = grid_search.best_estimator_\n",
    "\n",
    "  y_pred = best_model.predict(X_test)\n",
    "  recall = recall_score(y_test, y_pred)\n",
    "\n",
    "  print(\"Modelo:\", model_name)\n",
    "  print(\"Melhores Parâmetros:\", best_params)\n",
    "  print(\"Recall:\", recall)"
   ]
  },
  {
   "cell_type": "code",
   "execution_count": null,
   "metadata": {},
   "outputs": [],
   "source": []
  }
 ],
 "metadata": {
  "kernelspec": {
   "display_name": "Python 3",
   "language": "python",
   "name": "python3"
  },
  "language_info": {
   "codemirror_mode": {
    "name": "ipython",
    "version": 3
   },
   "file_extension": ".py",
   "mimetype": "text/x-python",
   "name": "python",
   "nbconvert_exporter": "python",
   "pygments_lexer": "ipython3",
   "version": "3.11.4"
  }
 },
 "nbformat": 4,
 "nbformat_minor": 2
}
