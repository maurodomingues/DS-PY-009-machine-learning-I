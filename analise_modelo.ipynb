{
 "cells": [
  {
   "cell_type": "code",
   "execution_count": 15,
   "metadata": {},
   "outputs": [],
   "source": [
    "from sklearn.tree import DecisionTreeClassifier\n",
    "from sklearn.neighbors import KNeighborsClassifier\n",
    "from sklearn.ensemble import RandomForestClassifier\n",
    "from sklearn.linear_model import LogisticRegression\n",
    "from sklearn.neural_network import MLPClassifier\n",
    "from sklearn.model_selection import train_test_split, GridSearchCV, RandomizedSearchCV\n",
    "from sklearn.pipeline import Pipeline\n",
    "from sklearn.metrics import recall_score, precision_score, accuracy_score, f1_score, confusion_matrix\n",
    "from sklearn.model_selection import cross_val_predict, cross_val_score\n",
    "\n",
    "import pandas as pd\n",
    "import numpy as np"
   ]
  },
  {
   "cell_type": "markdown",
   "metadata": {},
   "source": [
    "## Carrega as duas bases para testes"
   ]
  },
  {
   "cell_type": "code",
   "execution_count": 16,
   "metadata": {},
   "outputs": [],
   "source": [
    "# Com categorização das colunas bmi e glicose\n",
    "stroke_cat = pd.read_csv('stroke_df_cat')\n"
   ]
  },
  {
   "cell_type": "markdown",
   "metadata": {},
   "source": [
    "## Entrada para modelagem"
   ]
  },
  {
   "cell_type": "code",
   "execution_count": 17,
   "metadata": {},
   "outputs": [],
   "source": [
    "#features\n",
    "\n",
    "X = (stroke_cat.drop(['stroke'], axis=1)).values\n",
    "\n",
    "#target\n",
    "\n",
    "y = (stroke_cat['stroke']).values"
   ]
  },
  {
   "cell_type": "markdown",
   "metadata": {},
   "source": [
    "## Criação dos modelos"
   ]
  },
  {
   "cell_type": "code",
   "execution_count": 18,
   "metadata": {},
   "outputs": [],
   "source": [
    "ad_clf = DecisionTreeClassifier()\n",
    "knn_clf = KNeighborsClassifier(n_neighbors = 5)\n",
    "rf_clf = RandomForestClassifier(n_estimators=100)\n",
    "lg_clf = LogisticRegression(random_state=0, max_iter=1000)\n",
    "mlp_clf = MLPClassifier(random_state=1, max_iter=300)"
   ]
  },
  {
   "cell_type": "markdown",
   "metadata": {},
   "source": [
    "## Amostragem Holdout teste dos modelos"
   ]
  },
  {
   "cell_type": "code",
   "execution_count": 19,
   "metadata": {},
   "outputs": [],
   "source": [
    "X_train, X_test, y_train, y_test = train_test_split(X, y, test_size = 0.33)"
   ]
  },
  {
   "cell_type": "code",
   "execution_count": null,
   "metadata": {},
   "outputs": [],
   "source": [
    "X_train, X_test, y_train, y_test = train_test_split(X, y, test_size = 0.33,stratify=y)"
   ]
  },
  {
   "cell_type": "markdown",
   "metadata": {},
   "source": [
    "## Oversampling"
   ]
  },
  {
   "cell_type": "code",
   "execution_count": 28,
   "metadata": {},
   "outputs": [],
   "source": [
    "from imblearn.over_sampling import SMOTE\n",
    "\n",
    "s=SMOTE()\n",
    "X_res,y_res =s.fit_resample(X_train,y_train)\n",
    "X_resk,y_resk = s.fit_resample(X,y) "
   ]
  },
  {
   "cell_type": "markdown",
   "metadata": {},
   "source": [
    "## Undersampling"
   ]
  },
  {
   "cell_type": "code",
   "execution_count": 20,
   "metadata": {},
   "outputs": [],
   "source": [
    "from imblearn.under_sampling import ClusterCentroids,RandomUnderSampler\n",
    "\n",
    "rus= RandomUnderSampler()\n",
    "cc = ClusterCentroids()\n",
    "\n",
    "X_res,y_res = rus.fit_resample(X_train,y_train)\n",
    "X_resk,y_resk = rus.fit_resample(X,y)"
   ]
  },
  {
   "cell_type": "markdown",
   "metadata": {},
   "source": [
    "## Treinar modelos"
   ]
  },
  {
   "cell_type": "code",
   "execution_count": 29,
   "metadata": {},
   "outputs": [
    {
     "name": "stdout",
     "output_type": "stream",
     "text": [
      "                   Modelo  Accuracy  Precision    Recall  F1-Score\n",
      "0  DecisionTreeClassifier  0.884752   0.135189  0.316279  0.189415\n",
      "1    KNeighborsClassifier  0.887129   0.173112  0.437209  0.248021\n",
      "2  RandomForestClassifier  0.895446   0.149888  0.311628  0.202417\n",
      "3      LogisticRegression  0.805347   0.132887  0.646512  0.220460\n",
      "4           MLPClassifier  0.799406   0.117816  0.572093  0.195393\n"
     ]
    }
   ],
   "source": [
    "modelos = [ad_clf, knn_clf, rf_clf, lg_clf, mlp_clf]\n",
    "\n",
    "# Dicionário para armazenar métricas\n",
    "metrics = {\"Modelo\": [], \"Accuracy\": [], \"Precision\": [], \"Recall\": [], \"F1-Score\": []}\n",
    "\n",
    "for modelo in modelos:\n",
    "    modelo.fit(X_res, y_res)\n",
    "    y_pred = modelo.predict(X_test)\n",
    "    \n",
    "    modelo_name = modelo.__class__.__name__\n",
    "    accuracy = accuracy_score(y_test, y_pred)\n",
    "    precision = precision_score(y_test, y_pred)\n",
    "    recall = recall_score(y_test, y_pred)\n",
    "    f1 = f1_score(y_test, y_pred)\n",
    "    \n",
    "    metrics[\"Modelo\"].append(modelo_name)\n",
    "    metrics[\"Accuracy\"].append(accuracy)\n",
    "    metrics[\"Precision\"].append(precision)\n",
    "    metrics[\"Recall\"].append(recall)\n",
    "    metrics[\"F1-Score\"].append(f1)\n",
    "\n",
    "# Exiba as métricas\n",
    "\n",
    "metrics_df = pd.DataFrame(metrics)\n",
    "print(metrics_df)\n"
   ]
  },
  {
   "cell_type": "markdown",
   "metadata": {},
   "source": [
    "## Treinar modelos com  o KFold"
   ]
  },
  {
   "cell_type": "code",
   "execution_count": 22,
   "metadata": {},
   "outputs": [
    {
     "name": "stderr",
     "output_type": "stream",
     "text": [
      "c:\\Users\\User\\AppData\\Local\\Programs\\Python\\Python311\\Lib\\site-packages\\sklearn\\metrics\\_classification.py:1469: UndefinedMetricWarning: Precision is ill-defined and being set to 0.0 due to no predicted samples. Use `zero_division` parameter to control this behavior.\n",
      "  _warn_prf(average, modifier, msg_start, len(result))\n",
      "c:\\Users\\User\\AppData\\Local\\Programs\\Python\\Python311\\Lib\\site-packages\\sklearn\\metrics\\_classification.py:1469: UndefinedMetricWarning: Precision is ill-defined and being set to 0.0 due to no predicted samples. Use `zero_division` parameter to control this behavior.\n",
      "  _warn_prf(average, modifier, msg_start, len(result))\n",
      "c:\\Users\\User\\AppData\\Local\\Programs\\Python\\Python311\\Lib\\site-packages\\sklearn\\metrics\\_classification.py:1469: UndefinedMetricWarning: Precision is ill-defined and being set to 0.0 due to no predicted samples. Use `zero_division` parameter to control this behavior.\n",
      "  _warn_prf(average, modifier, msg_start, len(result))\n",
      "c:\\Users\\User\\AppData\\Local\\Programs\\Python\\Python311\\Lib\\site-packages\\sklearn\\metrics\\_classification.py:1469: UndefinedMetricWarning: Precision is ill-defined and being set to 0.0 due to no predicted samples. Use `zero_division` parameter to control this behavior.\n",
      "  _warn_prf(average, modifier, msg_start, len(result))\n",
      "c:\\Users\\User\\AppData\\Local\\Programs\\Python\\Python311\\Lib\\site-packages\\sklearn\\metrics\\_classification.py:1469: UndefinedMetricWarning: Precision is ill-defined and being set to 0.0 due to no predicted samples. Use `zero_division` parameter to control this behavior.\n",
      "  _warn_prf(average, modifier, msg_start, len(result))\n"
     ]
    },
    {
     "name": "stdout",
     "output_type": "stream",
     "text": [
      "                   Modelo  Accuracy  Precision    Recall  F1-Score\n",
      "0  DecisionTreeClassifier  0.932105   0.171209  0.183427  0.184351\n",
      "1    KNeighborsClassifier  0.955760   0.306128  0.060067  0.100375\n",
      "2  RandomForestClassifier  0.948899   0.202442  0.088576  0.119536\n",
      "3      LogisticRegression  0.958309   0.100000  0.003175  0.006154\n",
      "4           MLPClassifier  0.958636   0.000000  0.000000  0.000000\n"
     ]
    }
   ],
   "source": [
    "modelos = [ad_clf, knn_clf, rf_clf, lg_clf, mlp_clf]\n",
    "\n",
    "\n",
    "metrics = {\"Modelo\": [], \"Accuracy\": [], \"Precision\": [], \"Recall\": [], \"F1-Score\": []}\n",
    "\n",
    "# Realize a validação cruzada e calcule as métricas para cada modelo\n",
    "for modelo in modelos:\n",
    "    \n",
    "    modelo_name = modelo.__class__.__name__    \n",
    "   \n",
    "    y_pred = cross_val_predict(modelo, X, y, cv=5)\n",
    "    \n",
    "    # Calcule as métricas\n",
    "    \n",
    "    accuracy = cross_val_score(modelo, X, y, cv=5, scoring='accuracy').mean()\n",
    "    precision = cross_val_score(modelo, X, y, cv=5, scoring='precision').mean()\n",
    "    recall = cross_val_score(modelo, X, y, cv=5, scoring='recall').mean()\n",
    "    f1 = cross_val_score(modelo, X, y, cv=5, scoring='f1').mean()\n",
    "    \n",
    "    # Armazene as métricas no dicionário\n",
    "    metrics[\"Modelo\"].append(modelo_name)\n",
    "    metrics[\"Accuracy\"].append(accuracy)\n",
    "    metrics[\"Precision\"].append(precision)\n",
    "    metrics[\"Recall\"].append(recall)\n",
    "    metrics[\"F1-Score\"].append(f1)\n",
    "\n",
    "# Exiba as métricas\n",
    "import pandas as pd\n",
    "metrics_df = pd.DataFrame(metrics)\n",
    "print(metrics_df)\n"
   ]
  },
  {
   "cell_type": "code",
   "execution_count": 23,
   "metadata": {},
   "outputs": [
    {
     "name": "stdout",
     "output_type": "stream",
     "text": [
      "                   Modelo  Accuracy  Precision    Recall  F1-Score\n",
      "0  DecisionTreeClassifier  0.716761   0.729177  0.707337  0.717085\n",
      "1    KNeighborsClassifier  0.784827   0.787793  0.780177  0.783060\n",
      "2  RandomForestClassifier  0.787182   0.771844  0.816523  0.789376\n",
      "3      LogisticRegression  0.806189   0.795353  0.824484  0.809235\n",
      "4           MLPClassifier  0.780102   0.781226  0.780077  0.780279\n"
     ]
    }
   ],
   "source": [
    "modelos = [ad_clf, knn_clf, rf_clf, lg_clf, mlp_clf]\n",
    "\n",
    "\n",
    "metrics = {\"Modelo\": [], \"Accuracy\": [], \"Precision\": [], \"Recall\": [], \"F1-Score\": []}\n",
    "\n",
    "# Realize a validação cruzada e calcule as métricas para cada modelo\n",
    "for modelo in modelos:\n",
    "    modelo_name = modelo.__class__.__name__\n",
    "    \n",
    "    # Realize a validação cruzada com previsões\n",
    "    y_pred = cross_val_predict(modelo, X_resk, y_resk, cv=5)\n",
    "    \n",
    "    # Calcule as métricas\n",
    "    accuracy = cross_val_score(modelo, X_resk, y_resk, cv=5, scoring='accuracy').mean()\n",
    "    precision = cross_val_score(modelo, X_resk, y_resk, cv=5, scoring='precision').mean()\n",
    "    recall = cross_val_score(modelo, X_resk, y_resk, cv=5, scoring='recall').mean()\n",
    "    f1 = cross_val_score(modelo, X_resk, y_resk, cv=5, scoring='f1').mean()\n",
    "    \n",
    "    # Armazene as métricas no dicionário\n",
    "    metrics[\"Modelo\"].append(modelo_name)\n",
    "    metrics[\"Accuracy\"].append(accuracy)\n",
    "    metrics[\"Precision\"].append(precision)\n",
    "    metrics[\"Recall\"].append(recall)\n",
    "    metrics[\"F1-Score\"].append(f1)\n",
    "\n",
    "# Exiba as métricas\n",
    "import pandas as pd\n",
    "metrics_df = pd.DataFrame(metrics)\n",
    "print(metrics_df)\n"
   ]
  },
  {
   "cell_type": "code",
   "execution_count": null,
   "metadata": {},
   "outputs": [],
   "source": [
    "pipelines = {\n",
    "    'Decision Tree': Pipeline([\n",
    "        ('classifier', DecisionTreeClassifier())\n",
    "    ]),\n",
    "    'Random Forest': Pipeline([\n",
    "        ('classifier', RandomForestClassifier())\n",
    "    ]),\n",
    "    'MLP Classifier': Pipeline([\n",
    "        ('classifier', MLPClassifier())\n",
    "    ]),\n",
    "    'KNN': Pipeline([\n",
    "        ('classifier', KNeighborsClassifier())\n",
    "    ]),\n",
    "}\n",
    "\n",
    "param_grids = {\n",
    "    'Random Forest':{\n",
    "        'classifier__n_estimators': [50,100,200],\n",
    "        'classifier__max_depth': [2,4,6]\n",
    "    },\n",
    "    'Decision Tree':{\n",
    "        'classifier__min_samples_split': [2,3,4],\n",
    "        'classifier__max_depth': [2,4,6]\n",
    "    },\n",
    "    'KNN':{\n",
    "        'classifier__n_neighbors': [3,5,7],\n",
    "        'classifier__weights': ['uniform', 'distance']\n",
    "    },\n",
    "    'MLP Classifier':{\n",
    "        'classifier__hidden_layer_sizes': [(50,), (100,50), (100,100,50)],\n",
    "        'classifier__alpha': [0.0001, 0.001, 0.01]\n",
    "    }\n",
    "}\n",
    "\n",
    "for model_name, pipeline in pipelines.items():\n",
    "  grid_search = GridSearchCV(pipeline, param_grids[model_name], scoring='accuracy')\n",
    "  grid_search.fit(X_train, y_train)\n",
    "\n",
    "  best_params = grid_search.best_params_\n",
    "  best_model = grid_search.best_estimator_\n",
    "\n",
    "  y_pred = best_model.predict(X_test)\n",
    "  accuracy = accuracy_score(y_test, y_pred)\n",
    "\n",
    "  print(\"Modelo:\", model_name)\n",
    "  print(\"Melhores Parâmetros:\", best_params)\n",
    "  print(\"Accuracy:\", accuracy)"
   ]
  },
  {
   "cell_type": "code",
   "execution_count": 35,
   "metadata": {},
   "outputs": [
    {
     "name": "stdout",
     "output_type": "stream",
     "text": [
      "Acurácia Média: 0.7427967493215297\n",
      "Precisao Média: 0.1035899699312536\n",
      "Recall Média: 0.6834770653668292\n"
     ]
    }
   ],
   "source": [
    "from sklearn.model_selection import StratifiedKFold\n",
    "from imblearn.under_sampling import RandomUnderSampler\n",
    "from sklearn.metrics import accuracy_score\n",
    "from sklearn.tree import DecisionTreeClassifier\n",
    "\n",
    "# Supondo que você já carregou seu conjunto de dados em X e y\n",
    "\n",
    "# Defina o número de folds para a validação cruzada\n",
    "n_splits = 5\n",
    "\n",
    "# Crie uma instância do modelo que você deseja avaliar, por exemplo, uma árvore de decisão\n",
    "model = DecisionTreeClassifier()\n",
    "\n",
    "# Crie uma instância de StratifiedKFold para estratificação durante a validação cruzada\n",
    "cv = StratifiedKFold(n_splits=n_splits)\n",
    "\n",
    "# Crie um objeto RandomUnderSampler para realizar o undersampling\n",
    "under_sampler = RandomUnderSampler()\n",
    "#s=SMOTE()\n",
    "\n",
    "\n",
    "# Inicialize uma lista para armazenar as métricas, como a acurácia, para cada fold\n",
    "accuracies = []\n",
    "precision = []\n",
    "recalls = []\n",
    "\n",
    "# Realize a validação cruzada com undersampling\n",
    "for train_idx, test_idx in cv.split(X, y):\n",
    "    X_train, y_train = X[train_idx], y[train_idx]\n",
    "    X_test, y_test = X[test_idx], y[test_idx]\n",
    "\n",
    "    # Realize o undersampling nos dados de treinamento\n",
    "    X_resampled, y_resampled =under_sampler.fit_resample(X_train, y_train)\n",
    "\n",
    "    # Treine o modelo no conjunto de dados de treinamento resampleado\n",
    "    model.fit(X_resampled, y_resampled)\n",
    "\n",
    "    # Faça previsões no conjunto de dados de teste\n",
    "    y_pred = model.predict(X_test)\n",
    "\n",
    "    # Calcule a métrica desejada (por exemplo, acurácia)\n",
    "    accuracy = accuracy_score(y_test, y_pred)\n",
    "    precisao = precision_score(y_test, y_pred)\n",
    "    recall = recall_score(y_test, y_pred)\n",
    "    accuracies.append(accuracy)\n",
    "    precision.append(precisao)\n",
    "    recalls.append(recall)\n",
    "\n",
    "# Calcule a média das acurácias de todos os folds\n",
    "mean_accuracy = sum(accuracies) / n_splits\n",
    "mean_precisao = sum(precision) / n_splits\n",
    "mean_recall = sum(recalls) / n_splits\n",
    "\n",
    "print(\"Acurácia Média:\", mean_accuracy)\n",
    "print(\"Precisao Média:\", mean_precisao)\n",
    "print(\"Recall Média:\", mean_recall)\n"
   ]
  }
 ],
 "metadata": {
  "kernelspec": {
   "display_name": "Python 3",
   "language": "python",
   "name": "python3"
  },
  "language_info": {
   "codemirror_mode": {
    "name": "ipython",
    "version": 3
   },
   "file_extension": ".py",
   "mimetype": "text/x-python",
   "name": "python",
   "nbconvert_exporter": "python",
   "pygments_lexer": "ipython3",
   "version": "3.11.4"
  }
 },
 "nbformat": 4,
 "nbformat_minor": 2
}
